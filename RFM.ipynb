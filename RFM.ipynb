{
 "cells": [
  {
   "cell_type": "code",
   "execution_count": 2,
   "metadata": {},
   "outputs": [],
   "source": [
    "import numpy as np\n",
    "import pandas as pd\n",
    "import pymysql\n",
    "from sklearn.cluster import KMeans\n",
    "from sklearn.tree import DecisionTreeClassifier\n",
    "import os\n",
    "from sklearn import cross_validation\n",
    "import matplotlib.pyplot as plt\n",
    "from sklearn.externals import joblib\n",
    "from math import sqrt\n",
    "from sklearn import grid_search\n",
    "from sklearn.ensemble import RandomForestClassifier"
   ]
  },
  {
   "cell_type": "code",
   "execution_count": 35,
   "metadata": {},
   "outputs": [],
   "source": [
    "from sklearn.preprocessing import Imputer\n",
    "imp = Imputer(missing_values='NaN', strategy='mean', axis=0, verbose=0, copy=True)"
   ]
  },
  {
   "cell_type": "code",
   "execution_count": 3,
   "metadata": {},
   "outputs": [],
   "source": [
    "db = pymysql.connect(host=\"rdsv313f3wf342zn75661o.mysql.rds.aliyuncs.com\", port=3306, user='ningle', passwd='ningle@2018', db='erp_jst',\n",
    "                     charset='utf8')\n",
    "cursor = db.cursor()"
   ]
  },
  {
   "cell_type": "code",
   "execution_count": 7,
   "metadata": {
    "scrolled": true
   },
   "outputs": [],
   "source": [
    "sql = \"SELECT shop_buyer_id,  TIMESTAMPDIFF(DAY, NOW(), MAX(order_date)) AS R, COUNT(shop_buyer_id) as F,SUM(pay_amount) AS M FROM \\\n",
    "       orders_2018 where not isnull(shop_buyer_id) and shop_buyer_id <> '' group by shop_buyer_id \"\n",
    "cursor.execute(sql)\n",
    "\n",
    "data = cursor.fetchall()"
   ]
  },
  {
   "cell_type": "code",
   "execution_count": 11,
   "metadata": {},
   "outputs": [],
   "source": [
    "columnlist = ['user_id', 'recency', 'frequency', 'monetary']\n",
    "rfm = pd.DataFrame.from_records(list(data), columns=columnlist)"
   ]
  },
  {
   "cell_type": "code",
   "execution_count": 38,
   "metadata": {},
   "outputs": [],
   "source": [
    "rfm_new = np.array(rfm[['frequency', 'monetary', 'recency']])\n",
    "seed = 9"
   ]
  },
  {
   "cell_type": "code",
   "execution_count": 39,
   "metadata": {},
   "outputs": [],
   "source": [
    "rfm_new1 = imp.fit_transform(rfm_new)"
   ]
  },
  {
   "cell_type": "code",
   "execution_count": 40,
   "metadata": {},
   "outputs": [],
   "source": [
    "clf = KMeans(n_clusters=8, random_state=seed)"
   ]
  },
  {
   "cell_type": "code",
   "execution_count": 41,
   "metadata": {},
   "outputs": [],
   "source": [
    "clf = clf.fit(rfm_new1)"
   ]
  },
  {
   "cell_type": "code",
   "execution_count": 42,
   "metadata": {},
   "outputs": [
    {
     "data": {
      "text/plain": [
       "array([[ 1.43242923e+00,  9.47862663e+01, -3.01687072e+02],\n",
       "       [ 8.00000000e+01,  5.14372957e+07, -1.34000000e+02],\n",
       "       [ 1.00000000e+01,  1.40162905e+07, -2.83000000e+02],\n",
       "       [ 7.60000000e+01,  6.91682807e+07, -1.29000000e+02],\n",
       "       [ 3.83333333e+01,  4.25318750e+06, -2.09000000e+02],\n",
       "       [ 1.49000000e+02,  4.29668182e+07, -1.29000000e+02],\n",
       "       [ 3.75000000e+01,  6.67489286e+06, -1.27500000e+02],\n",
       "       [ 7.24137931e+00,  7.84791678e+05, -2.91137931e+02]])"
      ]
     },
     "execution_count": 42,
     "metadata": {},
     "output_type": "execute_result"
    }
   ],
   "source": [
    "clf.cluster_centers_"
   ]
  },
  {
   "cell_type": "code",
   "execution_count": 43,
   "metadata": {},
   "outputs": [],
   "source": [
    "rfm['label'] = clf.labels_"
   ]
  },
  {
   "cell_type": "code",
   "execution_count": 47,
   "metadata": {},
   "outputs": [],
   "source": [
    "c = rfm['label'].value_counts()"
   ]
  },
  {
   "cell_type": "code",
   "execution_count": 48,
   "metadata": {},
   "outputs": [
    {
     "data": {
      "text/plain": [
       "0    2576336\n",
       "7         29\n",
       "4          3\n",
       "2          3\n",
       "6          2\n",
       "5          1\n",
       "3          1\n",
       "1          1\n",
       "Name: label, dtype: int64"
      ]
     },
     "execution_count": 48,
     "metadata": {},
     "output_type": "execute_result"
    }
   ],
   "source": [
    "c"
   ]
  },
  {
   "cell_type": "code",
   "execution_count": null,
   "metadata": {},
   "outputs": [],
   "source": []
  }
 ],
 "metadata": {
  "kernelspec": {
   "display_name": "Python 3",
   "language": "python",
   "name": "python3"
  },
  "language_info": {
   "codemirror_mode": {
    "name": "ipython",
    "version": 3
   },
   "file_extension": ".py",
   "mimetype": "text/x-python",
   "name": "python",
   "nbconvert_exporter": "python",
   "pygments_lexer": "ipython3",
   "version": "3.7.0"
  }
 },
 "nbformat": 4,
 "nbformat_minor": 2
}
