{
 "cells": [
  {
   "cell_type": "code",
   "execution_count": 1,
   "metadata": {},
   "outputs": [],
   "source": [
    "import pymysql"
   ]
  },
  {
   "cell_type": "code",
   "execution_count": 2,
   "metadata": {},
   "outputs": [],
   "source": [
    "conn = pymysql.connect(host='172.16.108.234', port=33061, user='dba_sycm', passwd='dba_sycm@2018', db='erp_sycm', charset='utf8', local_infile=1)"
   ]
  },
  {
   "cell_type": "code",
   "execution_count": 3,
   "metadata": {},
   "outputs": [],
   "source": [
    "cursor = conn.cursor()"
   ]
  },
  {
   "cell_type": "code",
   "execution_count": 9,
   "metadata": {
    "scrolled": true
   },
   "outputs": [
    {
     "name": "stdout",
     "output_type": "stream",
     "text": [
      "D:/lmn/工作文件/工作/数据仓库/店铺流量来源/2018/PC/十二月/新建文件夹/【生意参谋平台】PC店铺流量来源-2018-12-01_2018-12-01.csv\n",
      "D:/lmn/工作文件/工作/数据仓库/店铺流量来源/2018/PC/十二月/新建文件夹/【生意参谋平台】PC店铺流量来源-2018-12-02_2018-12-02.csv\n",
      "D:/lmn/工作文件/工作/数据仓库/店铺流量来源/2018/PC/十二月/新建文件夹/【生意参谋平台】PC店铺流量来源-2018-12-03_2018-12-03.csv\n",
      "D:/lmn/工作文件/工作/数据仓库/店铺流量来源/2018/PC/十二月/新建文件夹/【生意参谋平台】PC店铺流量来源-2018-12-04_2018-12-04.csv\n",
      "D:/lmn/工作文件/工作/数据仓库/店铺流量来源/2018/PC/十二月/新建文件夹/【生意参谋平台】PC店铺流量来源-2018-12-05_2018-12-05.csv\n",
      "D:/lmn/工作文件/工作/数据仓库/店铺流量来源/2018/PC/十二月/新建文件夹/【生意参谋平台】PC店铺流量来源-2018-12-06_2018-12-06.csv\n",
      "D:/lmn/工作文件/工作/数据仓库/店铺流量来源/2018/PC/十二月/新建文件夹/【生意参谋平台】PC店铺流量来源-2018-12-07_2018-12-07.csv\n",
      "D:/lmn/工作文件/工作/数据仓库/店铺流量来源/2018/PC/十二月/新建文件夹/【生意参谋平台】PC店铺流量来源-2018-12-08_2018-12-08.csv\n",
      "D:/lmn/工作文件/工作/数据仓库/店铺流量来源/2018/PC/十二月/新建文件夹/【生意参谋平台】PC店铺流量来源-2018-12-09_2018-12-09.csv\n"
     ]
    },
    {
     "name": "stderr",
     "output_type": "stream",
     "text": [
      "C:\\ProgramData\\Anaconda3\\lib\\site-packages\\pymysql\\cursors.py:170: Warning: (1264, \"Out of range value for column 'paid_amounts_change_rate' at row 43\")\n",
      "  result = self._query(query)\n"
     ]
    }
   ],
   "source": [
    "for i in range(1,32):\n",
    "    path = \"D:/lmn/工作文件/工作/数据仓库/店铺流量来源/2018/PC/十二月/新建文件夹/【生意参谋平台】PC店铺流量来源-2018-12-01_2018-12-01.csv\"\n",
    "    if i < 10:\n",
    "        str1 = \"2018-12-01_2018-12-01\"\n",
    "        str2 = \"2018-12-0%d_2018-12-0%d\" % (i, i)\n",
    "        path = path.replace(str1, str2)\n",
    "        print(path)\n",
    "        query = 'LOAD DATA LOCAL INFILE \\''+path+'\\' INTO TABLE pc_shop_views_temp CHARACTER SET gbk FIELDS TERMINATED BY \\',\\' ENCLOSED BY \\'\\' LINES TERMINATED BY \\''+r'\\n'+'\\' IGNORE 1 LINES (views_from,views_from_detail,user_views,user_views_change_rate,new_user_views,\\\n",
    "                new_user_views_change_rate,page_views,pv_change_reatio,avg_user_views,avg_user_views_change_rate,favorites,favorites_change_rate,add_on_customers,add_on_customers_change_rate,bounce_rate,bounce_change_rate,order_amounts,order_amounts_change_rate,\\\n",
    "                order_buyers,order_buyers_change_rate,order_conversion_rate,order_conversion_change_rate,paid_amounts,paid_amounts_change_rate,paid_buyers,paid_buyers_change_rate,paid_rate,paid_change_rate,per_customer_transaction,per_customer_transaction_change_rate,\\\n",
    "                user_views_value,user_views_value_change_rate,views_date) SET shop_id=\"10013639\";'\n",
    "        \n",
    "        cursor.execute(query)\n",
    "        conn.commit()\n",
    "\n",
    "    else:\n",
    "        str1 = \"2018-12-01_2018-12-01\"\n",
    "        str2 = \"2018-12-%d_2018-12-%d\" % (i, i)\n",
    "        path = path.replace(str1, str2)\n",
    "        query = 'LOAD DATA LOCAL INFILE \\''+path+'\\' INTO TABLE pc_shop_views_temp CHARACTER SET gbk FIELDS TERMINATED BY \\',\\' ENCLOSED BY \\'\\' LINES TERMINATED BY \\''+r'\\n'+'\\' IGNORE 1 LINES (views_from,views_from_detail,user_views,user_views_change_rate,new_user_views,\\\n",
    "                new_user_views_change_rate,page_views,pv_change_reatio,avg_user_views,avg_user_views_change_rate,favorites,favorites_change_rate,add_on_customers,add_on_customers_change_rate,bounce_rate,bounce_change_rate,order_amounts,order_amounts_change_rate,\\\n",
    "                order_buyers,order_buyers_change_rate,order_conversion_rate,order_conversion_change_rate,paid_amounts,paid_amounts_change_rate,paid_buyers,paid_buyers_change_rate,paid_rate,paid_change_rate,per_customer_transaction,per_customer_transaction_change_rate,\\\n",
    "                user_views_value,user_views_value_change_rate,views_date) SET shop_id=\"10013639\";'\n",
    "        cursor.execute(query)\n",
    "        conn.commit()"
   ]
  },
  {
   "cell_type": "code",
   "execution_count": 57,
   "metadata": {},
   "outputs": [],
   "source": []
  },
  {
   "cell_type": "code",
   "execution_count": null,
   "metadata": {},
   "outputs": [],
   "source": []
  }
 ],
 "metadata": {
  "kernelspec": {
   "display_name": "Python 3",
   "language": "python",
   "name": "python3"
  },
  "language_info": {
   "codemirror_mode": {
    "name": "ipython",
    "version": 3
   },
   "file_extension": ".py",
   "mimetype": "text/x-python",
   "name": "python",
   "nbconvert_exporter": "python",
   "pygments_lexer": "ipython3",
   "version": "3.7.0"
  }
 },
 "nbformat": 4,
 "nbformat_minor": 2
}
